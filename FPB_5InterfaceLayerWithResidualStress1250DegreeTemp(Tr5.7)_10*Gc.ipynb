{
 "cells": [
  {
   "cell_type": "code",
   "execution_count": 1,
   "id": "7f85b17a",
   "metadata": {},
   "outputs": [],
   "source": [
    "using Gmsh: gmsh\n",
    "using Gridap\n",
    "using GridapGmsh\n",
    "using Gridap.TensorValues\n",
    "using PyPlot\n",
    "using LinearAlgebra"
   ]
  },
  {
   "cell_type": "code",
   "execution_count": 2,
   "id": "e80098af",
   "metadata": {},
   "outputs": [
    {
     "name": "stdout",
     "output_type": "stream",
     "text": [
      "t_AMZ = H / (n * Th_ratio + (n - 1)) = 0.12307692307692308\n",
      "t_ATZ = Th_ratio * t_AMZ = 0.7015384615384616\n"
     ]
    },
    {
     "data": {
      "text/plain": [
       "0.1"
      ]
     },
     "execution_count": 2,
     "metadata": {},
     "output_type": "execute_result"
    }
   ],
   "source": [
    "const lsp = 0.020\n",
    "hf = lsp/2.1             ##meshing parameter\n",
    "h =  40*hf               ##meshing parameter\n",
    "hfl = 25*hf\n",
    "hfi = 5*hf\n",
    "hfc = lsp/20\n",
    "H = 4\n",
    "L = 25\n",
    "Th_ratio = 5.7\n",
    "n = 5\n",
    "si = 10\n",
    "so = 20\n",
    "\n",
    "@show t_AMZ = H/((n*Th_ratio) + (n-1))\n",
    "@show t_ATZ = Th_ratio*t_AMZ\n",
    "xo = (L-so)/2\n",
    "xi = (L-si)/2\n",
    "tn = 0.0075*L/2\n",
    "hn = 0.15*H/2\n",
    "sw = 0.04*L\n",
    "FMW = 5*lsp"
   ]
  },
  {
   "cell_type": "code",
   "execution_count": 3,
   "id": "97b30a50",
   "metadata": {},
   "outputs": [
    {
     "data": {
      "text/plain": [
       "114754.09836065574"
      ]
     },
     "execution_count": 3,
     "metadata": {},
     "output_type": "execute_result"
    }
   ],
   "source": [
    "const E_ATZ = 390e3\n",
    "const ν_ATZ = 0.22\n",
    "G₁₂_ATZ = E_ATZ/(2*(1+ν_ATZ))\n",
    "\n",
    "const E_AMZ = 280e3\n",
    "const ν_AMZ = 0.22\n",
    "G₁₂_AMZ = E_AMZ/(2*(1+ν_AMZ))"
   ]
  },
  {
   "cell_type": "code",
   "execution_count": 4,
   "id": "c6a116c3",
   "metadata": {},
   "outputs": [
    {
     "data": {
      "text/plain": [
       "1.0e-10"
      ]
     },
     "execution_count": 4,
     "metadata": {},
     "output_type": "execute_result"
    }
   ],
   "source": [
    "const Gc_ATZ_I = 0.025\n",
    "const Gc_AMZ_I = 0.023\n",
    "const Gc_ATZ_II = 10*Gc_ATZ_I\n",
    "const Gc_AMZ_II = 10*Gc_AMZ_I\n",
    "const η = 1e-10"
   ]
  },
  {
   "cell_type": "code",
   "execution_count": 8,
   "id": "da412977",
   "metadata": {},
   "outputs": [
    {
     "name": "stdout",
     "output_type": "stream",
     "text": [
      "ϵ_ATZ = ((α_AMZ - α_ATZ) * ΔT * EAMZ * (n - 1) * t_AMZ) / (EATZ * n * t_ATZ + EAMZ * (n - 1) * t_AMZ) = 0.0002059664895790764\n",
      "ϵ_AMZ = -((α_AMZ - α_ATZ) * ΔT * EATZ * n * t_ATZ) / (EATZ * n * t_ATZ + EAMZ * (n - 1) * t_AMZ) = -0.0020440335104209236\n",
      "ϵ_ATZYY = (-2 * ν_ATZ * ϵ_ATZ) / (1 - ν_ATZ) = -0.00011618622489076103\n",
      "ϵ_AMZYY = (-2 * ν_AMZ * ϵ_AMZ) / (1 - ν_AMZ) = 0.0011530445443400082\n"
     ]
    },
    {
     "data": {
      "text/plain": [
       "0.0011530445443400082"
      ]
     },
     "execution_count": 8,
     "metadata": {},
     "output_type": "execute_result"
    }
   ],
   "source": [
    "α_ATZ = 9.8e-6   ##Thermal Coefficient of A       #*****   \n",
    "α_AMZ = 8.0e-6  ##Thermal Coefficient of AZ\n",
    "ΔT = -1250.0      ##Change in temperature\n",
    "\n",
    "EATZ = E_ATZ/(1-ν_ATZ)\n",
    "EAMZ = E_AMZ/(1-ν_AMZ)\n",
    "\n",
    "@show ϵ_ATZ = ((α_AMZ - α_ATZ)*ΔT*EAMZ*(n - 1)*t_AMZ)/(EATZ*(n)*t_ATZ + EAMZ*(n - 1)*t_AMZ)\n",
    "@show ϵ_AMZ = -((α_AMZ - α_ATZ)*ΔT*EATZ*(n)*t_ATZ)/(EATZ*(n)*t_ATZ + EAMZ*(n - 1)*t_AMZ)\n",
    "\n",
    "@show ϵ_ATZYY = -2*ν_ATZ*ϵ_ATZ/(1-ν_ATZ)\n",
    "@show ϵ_AMZYY = -2*ν_AMZ*ϵ_AMZ/(1-ν_AMZ)"
   ]
  },
  {
   "cell_type": "code",
   "execution_count": 20,
   "id": "a8b43fd8-cfb2-4a2d-8cfe-f65e4470c8d4",
   "metadata": {},
   "outputs": [
    {
     "data": {
      "text/plain": [
       "SymTensorValue{2, Float64, 3}(77.11684431254061, 0.0, -25.86640047699759)"
      ]
     },
     "execution_count": 20,
     "metadata": {},
     "output_type": "execute_result"
    }
   ],
   "source": [
    "λ_ATZ*tr(SymTensorValue(ϵ_ATZ, 0, ϵ_ATZYY))*(SymTensorValue(1, 0, 1)) + 2*μ_ATZ*(SymTensorValue(ϵ_ATZ, 0, ϵ_ATZYY))"
   ]
  },
  {
   "cell_type": "code",
   "execution_count": 21,
   "id": "3c3a7379-2fad-4ce4-b3f6-6d712263a91a",
   "metadata": {},
   "outputs": [
    {
     "data": {
      "text/plain": [
       "SymTensorValue{2, Float64, 3}(-549.457515726852, 0.0, 184.2981033986079)"
      ]
     },
     "execution_count": 21,
     "metadata": {},
     "output_type": "execute_result"
    }
   ],
   "source": [
    "λ_AMZ*tr(SymTensorValue(ϵ_AMZ, 0, ϵ_AMZYY))*(SymTensorValue(1, 0, 1)) + 2*μ_AMZ*(SymTensorValue(ϵ_AMZ, 0, ϵ_AMZYY))"
   ]
  },
  {
   "cell_type": "code",
   "execution_count": 10,
   "id": "dc8834fc",
   "metadata": {},
   "outputs": [
    {
     "name": "stdout",
     "output_type": "stream",
     "text": [
      "λ_ATZ = (E_ATZ * ν_ATZ) / ((1 + ν_ATZ) * (1 - 2ν_ATZ)) = 125585.48009367682\n",
      "λ_AMZ = (E_AMZ * ν_AMZ) / ((1 + ν_AMZ) * (1 - 2ν_AMZ)) = 90163.9344262295\n",
      "μ_ATZ = E_ATZ / (2 * (1 + ν_ATZ)) = 159836.0655737705\n",
      "μ_AMZ = E_AMZ / (2 * (1 + ν_AMZ)) = 114754.09836065574\n"
     ]
    },
    {
     "data": {
      "text/plain": [
       "204918.03278688525"
      ]
     },
     "execution_count": 10,
     "metadata": {},
     "output_type": "execute_result"
    }
   ],
   "source": [
    "@show λ_ATZ = E_ATZ*ν_ATZ/((1+ν_ATZ)*(1-2*ν_ATZ))\n",
    "@show λ_AMZ = E_AMZ*ν_AMZ/((1+ν_AMZ)*(1-2*ν_AMZ))\n",
    "@show μ_ATZ = E_ATZ/(2*(1+ν_ATZ))\n",
    "@show μ_AMZ = E_AMZ/(2*(1+ν_AMZ))\n",
    "k_ATZ = λ_ATZ + μ_ATZ\n",
    "k_AMZ = λ_AMZ + μ_AMZ"
   ]
  },
  {
   "cell_type": "code",
   "execution_count": 7,
   "id": "fc76fa3e",
   "metadata": {},
   "outputs": [
    {
     "data": {
      "text/plain": [
       "SymFourthOrderTensorValue{2, Float64, 9}(0.5, 0.0, -0.5, 0.0, 0.5, 0.0, -0.5, 0.0, 0.5)"
      ]
     },
     "execution_count": 7,
     "metadata": {},
     "output_type": "execute_result"
    }
   ],
   "source": [
    "I2 = SymTensorValue{2,Float64}(1.0 ,0.0 ,1.0)\n",
    "I4 = I2⊗I2\n",
    "I4_sym = one(SymFourthOrderTensorValue{2,Float64})\n",
    "I4_vol = (1.0/2)*I4\n",
    "I4_dev = I4_sym  - I4_vol"
   ]
  },
  {
   "cell_type": "code",
   "execution_count": 8,
   "id": "52479760",
   "metadata": {},
   "outputs": [
    {
     "ename": "LoadError",
     "evalue": "IOError: cd(\"With 8Times Gc\"): no such file or directory (ENOENT)",
     "output_type": "error",
     "traceback": [
      "IOError: cd(\"With 8Times Gc\"): no such file or directory (ENOENT)",
      "",
      "Stacktrace:",
      " [1] uv_error",
      "   @ ./libuv.jl:97 [inlined]",
      " [2] cd(dir::String)",
      "   @ Base.Filesystem ./file.jl:91",
      " [3] top-level scope",
      "   @ In[8]:1"
     ]
    }
   ],
   "source": [
    "cd(\"With 8Times Gc\")"
   ]
  },
  {
   "cell_type": "code",
   "execution_count": 9,
   "id": "interim-caution",
   "metadata": {
    "scrolled": true
   },
   "outputs": [
    {
     "name": "stdout",
     "output_type": "stream",
     "text": [
      "Info    : Meshing 1D...\n",
      "Info    : [  0%] Meshing curve 1 (Line)\n",
      "Info    : [ 10%] Meshing curve 2 (Line)\n",
      "Info    : [ 10%] Meshing curve 3 (Line)\n",
      "Info    : [ 10%] Meshing curve 4 (Line)\n",
      "Info    : [ 10%] Meshing curve 5 (Line)\n",
      "Info    : [ 10%] Meshing curve 6 (Line)\n",
      "Info    : [ 20%] Meshing curve 7 (Line)\n",
      "Info    : [ 20%] Meshing curve 8 (Line)\n",
      "Info    : [ 20%] Meshing curve 9 (Line)\n",
      "Info    : [ 20%] Meshing curve 10 (Line)\n",
      "Info    : [ 20%] Meshing curve 11 (Line)\n",
      "Info    : [ 20%] Meshing curve 12 (Line)\n",
      "Info    : [ 30%] Meshing curve 13 (Line)\n",
      "Info    : [ 30%] Meshing curve 14 (Line)\n",
      "Info    : [ 30%] Meshing curve 15 (Line)\n",
      "Info    : [ 30%] Meshing curve 16 (Line)\n",
      "Info    : [ 30%] Meshing curve 17 (Line)\n",
      "Info    : [ 40%] Meshing curve 18 (Line)\n",
      "Info    : [ 40%] Meshing curve 19 (Line)\n",
      "Info    : [ 40%] Meshing curve 20 (Line)\n",
      "Info    : [ 40%] Meshing curve 21 (Line)\n",
      "Info    : [ 40%] Meshing curve 22 (Line)\n",
      "Info    : [ 40%] Meshing curve 23 (Line)\n",
      "Info    : [ 50%] Meshing curve 24 (Line)\n",
      "Info    : [ 50%] Meshing curve 25 (Line)\n",
      "Info    : [ 50%] Meshing curve 26 (Line)\n",
      "Info    : [ 50%] Meshing curve 27 (Line)\n",
      "Info    : [ 50%] Meshing curve 28 (Line)\n",
      "Info    : [ 60%] Meshing curve 29 (Line)\n",
      "Info    : [ 60%] Meshing curve 30 (Line)\n",
      "Info    : [ 60%] Meshing curve 31 (Line)\n",
      "Info    : [ 60%] Meshing curve 32 (Line)\n",
      "Info    : [ 60%] Meshing curve 33 (Line)\n",
      "Info    : [ 60%] Meshing curve 34 (Line)\n",
      "Info    : [ 70%] Meshing curve 35 (Line)\n",
      "Info    : [ 70%] Meshing curve 36 (Line)\n",
      "Info    : [ 70%] Meshing curve 37 (Line)\n",
      "Info    : [ 70%] Meshing curve 38 (Line)\n",
      "Info    : [ 70%] Meshing curve 39 (Line)\n",
      "Info    : [ 80%] Meshing curve 40 (Line)\n",
      "Info    : [ 80%] Meshing curve 41 (Line)\n",
      "Info    : [ 80%] Meshing curve 42 (Line)\n",
      "Info    : [ 80%] Meshing curve 43 (Line)\n",
      "Info    : [ 80%] Meshing curve 44 (Line)\n",
      "Info    : [ 80%] Meshing curve 45 (Line)\n",
      "Info    : [ 90%] Meshing curve 46 (Line)\n",
      "Info    : [ 90%] Meshing curve 47 (Line)\n",
      "Info    : [ 90%] Meshing curve 48 (Line)\n",
      "Info    : [ 90%] Meshing curve 49 (Line)\n",
      "Info    : [ 90%] Meshing curve 50 (Line)\n",
      "Info    : [100%] Meshing curve 51 (Line)\n",
      "Info    : [100%] Meshing curve 52 (Line)\n",
      "Info    : [100%] Meshing curve 53 (Line)\n",
      "Info    : [100%] Meshing curve 54 (Line)\n",
      "Info    : [100%] Meshing curve 55 (Line)\n",
      "Info    : Done meshing 1D (Wall 0.0204895s, CPU 0.020344s)\n",
      "Info    : Meshing 2D...\n",
      "Info    : [  0%] Meshing surface 1 (Plane, Frontal-Delaunay)\n",
      "Info    : [ 10%] Meshing surface 2 (Plane, Frontal-Delaunay)\n",
      "Info    : [ 20%] Meshing surface 3 (Plane, Frontal-Delaunay)\n",
      "Info    : [ 20%] Meshing surface 4 (Plane, Frontal-Delaunay)\n",
      "Info    : [ 30%] Meshing surface 5 (Plane, Frontal-Delaunay)\n",
      "Info    : [ 30%] Meshing surface 6 (Plane, Frontal-Delaunay)\n",
      "Info    : [ 40%] Meshing surface 7 (Plane, Frontal-Delaunay)\n",
      "Info    : [ 40%] Meshing surface 8 (Plane, Frontal-Delaunay)\n",
      "Info    : [ 50%] Meshing surface 9 (Plane, Frontal-Delaunay)\n",
      "Info    : [ 50%] Meshing surface 10 (Plane, Frontal-Delaunay)\n",
      "Info    : [ 60%] Meshing surface 11 (Plane, Frontal-Delaunay)\n",
      "Info    : [ 70%] Meshing surface 12 (Plane, Frontal-Delaunay)\n",
      "Info    : [ 70%] Meshing surface 13 (Plane, Frontal-Delaunay)\n",
      "Info    : [ 80%] Meshing surface 14 (Plane, Frontal-Delaunay)\n",
      "Info    : [ 80%] Meshing surface 15 (Plane, Frontal-Delaunay)\n",
      "Info    : [ 90%] Meshing surface 16 (Plane, Frontal-Delaunay)\n",
      "Info    : [ 90%] Meshing surface 17 (Plane, Frontal-Delaunay)\n",
      "Info    : [100%] Meshing surface 18 (Plane, Frontal-Delaunay)\n",
      "Info    : Done meshing 2D (Wall 6.43583s, CPU 6.40734s)\n",
      "Info    : 204396 nodes 415833 elements\n",
      "Info    : Writing 'BeamWithPSLayer.msh'...\n",
      "Info    : Done writing 'BeamWithPSLayer.msh'\n"
     ]
    },
    {
     "name": "stderr",
     "output_type": "stream",
     "text": [
      "Warning : Unknown entity of dimension 2 and tag 1 in physical group 1\n",
      "Warning : Unknown entity of dimension 2 and tag 3 in physical group 1\n",
      "Warning : Unknown entity of dimension 2 and tag 5 in physical group 1\n",
      "Warning : Unknown entity of dimension 2 and tag 7 in physical group 1\n",
      "Warning : Unknown entity of dimension 2 and tag 9 in physical group 1\n",
      "Warning : Unknown entity of dimension 2 and tag 10 in physical group 1\n",
      "Warning : Unknown entity of dimension 2 and tag 12 in physical group 1\n",
      "Warning : Unknown entity of dimension 2 and tag 14 in physical group 1\n",
      "Warning : Unknown entity of dimension 2 and tag 16 in physical group 1\n",
      "Warning : Unknown entity of dimension 2 and tag 18 in physical group 1\n",
      "Warning : Unknown entity of dimension 2 and tag 2 in physical group 2\n",
      "Warning : Unknown entity of dimension 2 and tag 4 in physical group 2\n",
      "Warning : Unknown entity of dimension 2 and tag 6 in physical group 2\n",
      "Warning : Unknown entity of dimension 2 and tag 8 in physical group 2\n",
      "Warning : Unknown entity of dimension 2 and tag 11 in physical group 2\n",
      "Warning : Unknown entity of dimension 2 and tag 13 in physical group 2\n",
      "Warning : Unknown entity of dimension 2 and tag 15 in physical group 2\n",
      "Warning : Unknown entity of dimension 2 and tag 17 in physical group 2\n",
      "Warning : Unknown entity of dimension 1 and tag 22 in physical group 3\n",
      "Warning : Unknown entity of dimension 1 and tag 45 in physical group 3\n",
      "Warning : Unknown entity of dimension 0 and tag 13 in physical group 4\n",
      "Warning : Unknown entity of dimension 0 and tag 26 in physical group 5\n"
     ]
    }
   ],
   "source": [
    "gmsh.initialize()\n",
    "gmsh.option.setNumber(\"General.Terminal\", 1)\n",
    "\n",
    "p1 = gmsh.model.geo.addPoint(-L/2, 0, 0, hfi)\n",
    "p2 = gmsh.model.geo.addPoint(-L/2, t_ATZ, 0, hfi)\n",
    "p3 = gmsh.model.geo.addPoint(-L/2, t_ATZ + t_AMZ, 0, hfi)\n",
    "p4 = gmsh.model.geo.addPoint(-L/2, 2*t_ATZ + t_AMZ, 0, hfi)\n",
    "p5 = gmsh.model.geo.addPoint(-L/2, 2*t_ATZ + 2*t_AMZ, 0, hfi)\n",
    "p6 = gmsh.model.geo.addPoint(-L/2, 3*t_ATZ + 2*t_AMZ, 0, hfi)\n",
    "p7 = gmsh.model.geo.addPoint(-L/2, 3*t_ATZ + 3*t_AMZ, 0, hfi)\n",
    "p8 = gmsh.model.geo.addPoint(-L/2, 4*t_ATZ + 3*t_AMZ, 0, hfi)\n",
    "p9 = gmsh.model.geo.addPoint(-L/2, 4*t_ATZ + 4*t_AMZ, 0, hfi)\n",
    "p10 = gmsh.model.geo.addPoint(-L/2, H, 0, hfi)\n",
    "\n",
    "p801 = gmsh.model.geo.addPoint(-L/2 + xi - 2*tn, H, 0, hfl)\n",
    "p802 = gmsh.model.geo.addPoint(-L/2 + xi + 2*tn, H, 0, hfl)\n",
    "\n",
    "p101 = gmsh.model.geo.addPoint(-L/2 + xo, 0, 0, hfl)\n",
    "\n",
    "p111 = gmsh.model.geo.addPoint(-tn/2, 0, 0, hfl)\n",
    "\n",
    "p11 = gmsh.model.geo.addPoint(0, hn, 0, hfc)\n",
    "p12 = gmsh.model.geo.addPoint(0, t_ATZ, 0, hfi)\n",
    "p13 = gmsh.model.geo.addPoint(0, t_ATZ + t_AMZ, 0, hfi)\n",
    "p14 = gmsh.model.geo.addPoint(0, 2*t_ATZ + t_AMZ, 0, hfi)\n",
    "p15 = gmsh.model.geo.addPoint(0, 2*t_ATZ + 2*t_AMZ, 0, hfi)\n",
    "p16 = gmsh.model.geo.addPoint(0, 3*t_ATZ + 2*t_AMZ, 0, hfi)\n",
    "p17 = gmsh.model.geo.addPoint(0, 3*t_ATZ + 3*t_AMZ, 0, hfi)\n",
    "p18 = gmsh.model.geo.addPoint(0, 4*t_ATZ + 3*t_AMZ, 0, hfi)\n",
    "p19 = gmsh.model.geo.addPoint(0, 4*t_ATZ + 4*t_AMZ, 0, hfi)\n",
    "p20 = gmsh.model.geo.addPoint(0, H, 0, hf)\n",
    "\n",
    "p112 = gmsh.model.geo.addPoint(tn/2, 0, 0, hfl)\n",
    "\n",
    "p2101 = gmsh.model.geo.addPoint(L/2 - xo, 0, 0, hfl)\n",
    "\n",
    "p21 = gmsh.model.geo.addPoint(L/2, 0, 0, hfi)\n",
    "p22 = gmsh.model.geo.addPoint(L/2, t_ATZ, 0, hfi)\n",
    "p23 = gmsh.model.geo.addPoint(L/2, t_ATZ + t_AMZ, 0, hfi)\n",
    "p24 = gmsh.model.geo.addPoint(L/2, 2*t_ATZ + t_AMZ, 0, hfi)\n",
    "p25 = gmsh.model.geo.addPoint(L/2, 2*t_ATZ + 2*t_AMZ, 0, hfi)\n",
    "p26 = gmsh.model.geo.addPoint(L/2, 3*t_ATZ + 2*t_AMZ, 0, hfi)\n",
    "p27 = gmsh.model.geo.addPoint(L/2, 3*t_ATZ + 3*t_AMZ, 0, hfi)\n",
    "p28 = gmsh.model.geo.addPoint(L/2, 4*t_ATZ + 3*t_AMZ, 0, hfi)\n",
    "p29 = gmsh.model.geo.addPoint(L/2, 4*t_ATZ + 4*t_AMZ, 0, hfi)\n",
    "p30 = gmsh.model.geo.addPoint(L/2, H, 0, hfi)\n",
    "\n",
    "p2801 = gmsh.model.geo.addPoint(L/2 - xi + 2*tn, H, 0, hfl)\n",
    "p2802 = gmsh.model.geo.addPoint(L/2 - xi - 2*tn, H, 0, hfl)\n",
    "\n",
    "l1 = gmsh.model.geo.addLine(p1, p2)\n",
    "l2 = gmsh.model.geo.addLine(p2, p3)\n",
    "l3 = gmsh.model.geo.addLine(p3, p4)\n",
    "l4 = gmsh.model.geo.addLine(p4, p5)\n",
    "l5 = gmsh.model.geo.addLine(p5, p6)\n",
    "l6 = gmsh.model.geo.addLine(p6, p7)\n",
    "l7 = gmsh.model.geo.addLine(p7, p8)\n",
    "l8 = gmsh.model.geo.addLine(p8, p9)\n",
    "l9 = gmsh.model.geo.addLine(p9, p10)\n",
    "\n",
    "\n",
    "l111 = gmsh.model.geo.addLine(p1, p101)\n",
    "\n",
    "l11 = gmsh.model.geo.addLine(p101, p111)\n",
    "l12 = gmsh.model.geo.addLine(p2, p12)\n",
    "l13 = gmsh.model.geo.addLine(p3, p13)\n",
    "l14 = gmsh.model.geo.addLine(p4, p14)\n",
    "l15 = gmsh.model.geo.addLine(p5, p15)\n",
    "l16 = gmsh.model.geo.addLine(p6, p16)\n",
    "l17 = gmsh.model.geo.addLine(p7, p17)\n",
    "l18 = gmsh.model.geo.addLine(p8, p18)\n",
    "l19 = gmsh.model.geo.addLine(p9, p19)\n",
    "l20 = gmsh.model.geo.addLine(p802, p20)\n",
    "\n",
    "l181 = gmsh.model.geo.addLine(p10, p801)\n",
    "l182 = gmsh.model.geo.addLine(p801, p802)\n",
    "\n",
    "l211 = gmsh.model.geo.addLine(p111, p11)\n",
    "l212 = gmsh.model.geo.addLine(p112, p11)\n",
    "l21 = gmsh.model.geo.addLine(p11, p12)\n",
    "l22 = gmsh.model.geo.addLine(p12, p13)\n",
    "l23 = gmsh.model.geo.addLine(p13, p14)\n",
    "l24 = gmsh.model.geo.addLine(p14, p15)\n",
    "l25 = gmsh.model.geo.addLine(p15, p16)\n",
    "l26 = gmsh.model.geo.addLine(p16, p17)\n",
    "l27 = gmsh.model.geo.addLine(p17, p18)\n",
    "l28 = gmsh.model.geo.addLine(p18, p19)\n",
    "l29 = gmsh.model.geo.addLine(p19, p20)\n",
    "\n",
    "l31 = gmsh.model.geo.addLine(p112, p2101)\n",
    "l311 = gmsh.model.geo.addLine(p2101, p21)\n",
    "l32 = gmsh.model.geo.addLine(p12, p22)\n",
    "l33 = gmsh.model.geo.addLine(p13, p23)\n",
    "l34 = gmsh.model.geo.addLine(p14, p24)\n",
    "l35 = gmsh.model.geo.addLine(p15, p25)\n",
    "l36 = gmsh.model.geo.addLine(p16, p26)\n",
    "l37 = gmsh.model.geo.addLine(p17, p27)\n",
    "l38 = gmsh.model.geo.addLine(p18, p28)\n",
    "l39 = gmsh.model.geo.addLine(p19, p29)\n",
    "l40 = gmsh.model.geo.addLine(p20, p2802)\n",
    "\n",
    "l382 = gmsh.model.geo.addLine(p2802, p2801)\n",
    "l381 = gmsh.model.geo.addLine(p2801, p30)\n",
    "\n",
    "l41 = gmsh.model.geo.addLine(p21, p22)\n",
    "l42 = gmsh.model.geo.addLine(p22, p23)\n",
    "l43 = gmsh.model.geo.addLine(p23, p24)\n",
    "l44 = gmsh.model.geo.addLine(p24, p25)\n",
    "l45 = gmsh.model.geo.addLine(p25, p26)\n",
    "l46 = gmsh.model.geo.addLine(p26, p27)\n",
    "l47 = gmsh.model.geo.addLine(p27, p28)\n",
    "l48 = gmsh.model.geo.addLine(p28, p29)\n",
    "l49 = gmsh.model.geo.addLine(p29, p30)\n",
    "\n",
    "\n",
    "cl1 = gmsh.model.geo.addCurveLoop([l111,l11,l211,l21, -l12, -l1])\n",
    "ps1 = gmsh.model.geo.addPlaneSurface([cl1])\n",
    "\n",
    "cl2 = gmsh.model.geo.addCurveLoop([l12, l22, -l13, -l2])\n",
    "ps2 = gmsh.model.geo.addPlaneSurface([cl2])\n",
    "\n",
    "cl3 = gmsh.model.geo.addCurveLoop([l13, l23, -l14, -l3])\n",
    "ps3 = gmsh.model.geo.addPlaneSurface([cl3])\n",
    "\n",
    "cl4 = gmsh.model.geo.addCurveLoop([l14, l24, -l15, -l4])\n",
    "ps4 = gmsh.model.geo.addPlaneSurface([cl4])\n",
    "\n",
    "cl5 = gmsh.model.geo.addCurveLoop([l15, l25, -l16, -l5])\n",
    "ps5 = gmsh.model.geo.addPlaneSurface([cl5])\n",
    "\n",
    "cl6 = gmsh.model.geo.addCurveLoop([l16, l26, -l17, -l6])\n",
    "ps6 = gmsh.model.geo.addPlaneSurface([cl6])\n",
    "\n",
    "cl7 = gmsh.model.geo.addCurveLoop([l17, l27, -l18,-l7])\n",
    "ps7 = gmsh.model.geo.addPlaneSurface([cl7])\n",
    "\n",
    "cl8 = gmsh.model.geo.addCurveLoop([l18, l28, -l19,-l8])\n",
    "ps8 = gmsh.model.geo.addPlaneSurface([cl8])\n",
    "\n",
    "cl9 = gmsh.model.geo.addCurveLoop([l19, l29, -l20,-l182, -l181, -l9])\n",
    "ps9 = gmsh.model.geo.addPlaneSurface([cl9])\n",
    "\n",
    "\n",
    "\n",
    "cl10 = gmsh.model.geo.addCurveLoop([l31,l311,l41,-l32, -l21, -l212])\n",
    "ps10 = gmsh.model.geo.addPlaneSurface([cl10])\n",
    "\n",
    "cl11 = gmsh.model.geo.addCurveLoop([l32, l42, -l33, -l22])\n",
    "ps11 = gmsh.model.geo.addPlaneSurface([cl11])\n",
    "\n",
    "cl12 = gmsh.model.geo.addCurveLoop([l33, l43, -l34, -l23])\n",
    "ps12 = gmsh.model.geo.addPlaneSurface([cl12])\n",
    "\n",
    "cl13 = gmsh.model.geo.addCurveLoop([l34, l44, -l35, -l24])\n",
    "ps13 = gmsh.model.geo.addPlaneSurface([cl13])\n",
    "\n",
    "cl14 = gmsh.model.geo.addCurveLoop([l35, l45, -l36, -l25])\n",
    "ps14 = gmsh.model.geo.addPlaneSurface([cl14])\n",
    "\n",
    "cl15 = gmsh.model.geo.addCurveLoop([l36, l46, -l37, -l26])\n",
    "ps15 = gmsh.model.geo.addPlaneSurface([cl15])\n",
    "\n",
    "cl16 = gmsh.model.geo.addCurveLoop([l37, l47, -l38, -l27])\n",
    "ps16 = gmsh.model.geo.addPlaneSurface([cl16])\n",
    "\n",
    "cl17 = gmsh.model.geo.addCurveLoop([l38, l48, -l39,-l28])\n",
    "ps17 = gmsh.model.geo.addPlaneSurface([cl17])\n",
    "\n",
    "cl18= gmsh.model.geo.addCurveLoop([l39, l49, -l381, -l382, -l40, -l29])\n",
    "ps18= gmsh.model.geo.addPlaneSurface([cl18])\n",
    "\n",
    "\n",
    "\n",
    "pg1 = gmsh.model.addPhysicalGroup(2, [ps1, ps3, ps5, ps7, ps9,ps10, ps12, ps14, ps16, ps18])\n",
    "pg2 = gmsh.model.addPhysicalGroup(2, [ps2,ps4, ps6, ps8, ps11,ps13, ps15, ps17])\n",
    "pg3 = gmsh.model.addPhysicalGroup(1, [l182,l382])\n",
    "pg4 = gmsh.model.addPhysicalGroup(0, [p101])\n",
    "pg5 = gmsh.model.addPhysicalGroup(0, [p2101])\n",
    "\n",
    "gmsh.model.setPhysicalName(2, pg1, \"laminateATZ\")\n",
    "gmsh.model.setPhysicalName(2, pg2, \"laminateAMZ\")\n",
    "gmsh.model.setPhysicalName(1, pg3, \"DirichletLoadBoundary\")\n",
    "gmsh.model.setPhysicalName(0, pg4, \"LeftSupport\")\n",
    "gmsh.model.setPhysicalName(0, pg5, \"RightSupport\")\n",
    "\n",
    "gmsh.model.mesh.field.add(\"Box\", 21)\n",
    "gmsh.model.mesh.field.setNumber(21, \"VIn\", hf)\n",
    "gmsh.model.mesh.field.setNumber(21, \"VOut\", h)\n",
    "gmsh.model.mesh.field.setNumber(21, \"XMin\", (-3*tn-3*FMW))\n",
    "gmsh.model.mesh.field.setNumber(21, \"XMax\", (+3*tn+3*FMW))\n",
    "gmsh.model.mesh.field.setNumber(21, \"YMin\",0)\n",
    "gmsh.model.mesh.field.setNumber(21, \"YMax\",t_ATZ - 2*t_AMZ)\n",
    "\n",
    "\n",
    "gmsh.model.mesh.field.add(\"Box\", 22)\n",
    "gmsh.model.mesh.field.setNumber(22, \"VIn\", hf)\n",
    "gmsh.model.mesh.field.setNumber(22, \"VOut\", h)\n",
    "gmsh.model.mesh.field.setNumber(22, \"XMin\", (-10*tn-10*FMW))\n",
    "gmsh.model.mesh.field.setNumber(22, \"XMax\", (+7*tn+7*FMW))\n",
    "gmsh.model.mesh.field.setNumber(22, \"YMin\",t_ATZ - 2*t_AMZ)\n",
    "gmsh.model.mesh.field.setNumber(22, \"YMax\",3*t_ATZ + 3*t_AMZ)\n",
    "\n",
    "gmsh.model.mesh.field.add(\"Box\", 23)\n",
    "gmsh.model.mesh.field.setNumber(23, \"VIn\", hf)\n",
    "gmsh.model.mesh.field.setNumber(23, \"VOut\", h)\n",
    "gmsh.model.mesh.field.setNumber(23, \"XMin\", (-10*tn-10*FMW))\n",
    "gmsh.model.mesh.field.setNumber(23, \"XMax\", (+10*tn+10*FMW))\n",
    "gmsh.model.mesh.field.setNumber(23, \"YMin\",3*t_ATZ + 3*t_AMZ)\n",
    "gmsh.model.mesh.field.setNumber(23, \"YMax\",H)\n",
    "\n",
    "\n",
    "gmsh.model.mesh.field.add(\"Min\",24)\n",
    "gmsh.model.mesh.field.setNumbers(24, \"FieldsList\",[21,22,23])\n",
    "gmsh.model.mesh.field.setAsBackgroundMesh(24)\n",
    "\n",
    "gmsh.model.geo.synchronize()\n",
    "gmsh.model.mesh.generate(2)\n",
    "gmsh.write(\"BeamWithPSLayer.msh\")\n",
    "gmsh.finalize()"
   ]
  },
  {
   "cell_type": "code",
   "execution_count": 10,
   "id": "1746091a",
   "metadata": {
    "scrolled": true
   },
   "outputs": [
    {
     "name": "stdout",
     "output_type": "stream",
     "text": [
      "Info    : Reading 'BeamWithPSLayer.msh'...\n",
      "Info    : 111 entities\n",
      "Info    : 204396 nodes\n",
      "Info    : [ 10%] Reading nodes                                          \r",
      "Info    : [ 20%] Reading nodes                                          \r",
      "Info    : [ 30%] Reading nodes                                          \r",
      "Info    : [ 40%] Reading nodes                                          \r",
      "Info    : [ 50%] Reading nodes                                          \r",
      "Info    : [ 50%] Reading nodes                                          \r",
      "Info    : [ 60%] Reading nodes                                          \r",
      "Info    : [ 70%] Reading nodes                                          \r",
      "Info    : [ 80%] Reading nodes                                          \r",
      "Info    : [ 90%] Reading nodes                                          \r",
      "Info    : [100%] Reading nodes                                          \r",
      "                                          \r",
      "Info    : 407737 elements\n",
      "Info    : [ 10%] Reading elements                                          \r",
      "Info    : [ 20%] Reading elements                                          \r",
      "Info    : [ 30%] Reading elements                                          \r",
      "Info    : [ 40%] Reading elements                                          \r",
      "Info    : [ 50%] Reading elements                                          \r",
      "Info    : [ 60%] Reading elements                                          \r",
      "Info    : [ 70%] Reading elements                                          \r",
      "Info    : [ 80%] Reading elements                                          \r",
      "Info    : [ 90%] Reading elements                                          \r",
      "Info    : [100%] Reading elements                                          \r",
      "                                          \r",
      "Info    : Done reading 'BeamWithPSLayer.msh'\n"
     ]
    },
    {
     "data": {
      "text/plain": [
       "3-element Vector{Vector{String}}:\n",
       " [\"BeamWithPSLayer_0.vtu\"]\n",
       " [\"BeamWithPSLayer_1.vtu\"]\n",
       " [\"BeamWithPSLayer_2.vtu\"]"
      ]
     },
     "execution_count": 10,
     "metadata": {},
     "output_type": "execute_result"
    }
   ],
   "source": [
    "model = GmshDiscreteModel(\"BeamWithPSLayer.msh\")\n",
    "writevtk(model,\"BeamWithPSLayer\")"
   ]
  },
  {
   "cell_type": "code",
   "execution_count": 11,
   "id": "41326f7b",
   "metadata": {},
   "outputs": [],
   "source": [
    "using Gridap.Geometry\n",
    "labels = get_face_labeling(model)\n",
    "dimension = 2\n",
    "mat_tags = get_face_tag(labels,dimension);"
   ]
  },
  {
   "cell_type": "code",
   "execution_count": 12,
   "id": "afb885c6",
   "metadata": {},
   "outputs": [
    {
     "data": {
      "text/plain": [
       "Measure()"
      ]
     },
     "execution_count": 12,
     "metadata": {},
     "output_type": "execute_result"
    }
   ],
   "source": [
    "order = 1\n",
    "degree = 2*order\n",
    "Ω = Triangulation(model)\n",
    "dΩ = Measure(Ω,degree)"
   ]
  },
  {
   "cell_type": "code",
   "execution_count": 13,
   "id": "a203d0bb",
   "metadata": {},
   "outputs": [
    {
     "data": {
      "text/plain": [
       "5"
      ]
     },
     "execution_count": 13,
     "metadata": {},
     "output_type": "execute_result"
    }
   ],
   "source": [
    "const ATZ_tag = get_tag_from_name(labels,\"laminateATZ\")\n",
    "const AMZ_tag = get_tag_from_name(labels,\"laminateAMZ\")"
   ]
  },
  {
   "cell_type": "code",
   "execution_count": 14,
   "id": "0e7d3dcf",
   "metadata": {},
   "outputs": [
    {
     "data": {
      "text/plain": [
       "Gc (generic function with 1 method)"
      ]
     },
     "execution_count": 14,
     "metadata": {},
     "output_type": "execute_result"
    }
   ],
   "source": [
    "function Gc(s_id,tag)\n",
    "        if tag == ATZ_tag          \n",
    "            return  Gc_ATZ*s_id\n",
    "        elseif tag == AMZ_tag    \n",
    "            return Gc_AMZ*s_id\n",
    "        end\n",
    "end"
   ]
  },
  {
   "cell_type": "code",
   "execution_count": 15,
   "id": "f3b14f72",
   "metadata": {},
   "outputs": [
    {
     "data": {
      "text/plain": [
       "ϵRes (generic function with 1 method)"
      ]
     },
     "execution_count": 15,
     "metadata": {},
     "output_type": "execute_result"
    }
   ],
   "source": [
    "function ϵRes(tag)\n",
    "        if tag == ATZ_tag          \n",
    "            return (SymTensorValue(ϵ_ATZ, 0, ϵ_ATZYY))\n",
    "        elseif tag == AMZ_tag    \n",
    "            return (SymTensorValue(ϵ_AMZ, 0, ϵ_AMZYY))\n",
    "        end\n",
    "end"
   ]
  },
  {
   "cell_type": "code",
   "execution_count": 16,
   "id": "82c6b4ae",
   "metadata": {},
   "outputs": [
    {
     "data": {
      "text/plain": [
       "SymFourthOrderTensorValue{2, Float64, 9}(319672.131147541, 0.0, 90163.9344262295, 0.0, 114754.09836065574, 0.0, 90163.9344262295, 0.0, 319672.131147541)"
      ]
     },
     "execution_count": 16,
     "metadata": {},
     "output_type": "execute_result"
    }
   ],
   "source": [
    "function ElasFourthOrderConstTensor(E₁,E₂,ν₁₂,ν₂₁,G₁₂,PlanarState)\n",
    "    # 1 for Plane Stress and 2 Plane Strain Condition \n",
    "  if PlanarState == 1\n",
    "      C1111 = E₁/(1-ν₁₂*ν₂₁)\n",
    "      C1122 = (ν₂₁*E₁)/(1-ν₁₂*ν₂₁)\n",
    "      C1112 = 0.0\n",
    "      C2222 = E₂/(1-ν₁₂*ν₂₁)\n",
    "      C2212 = 0.0\n",
    "      C1212 = G₁₂     \n",
    "  elseif PlanarState == 2\n",
    "      C1111 = (E₁*(1-ν₁₂*ν₂₁))/((1+ν₁₂)*(1-ν₁₂-2*ν₁₂*ν₂₁))\n",
    "      C1122 = (ν₂₁*E₁)/(1-ν₁₂-2*ν₁₂*ν₂₁)\n",
    "      C1112 = 0.0\n",
    "      C2222 = (E₂*(1-ν₁₂))/(1-ν₁₂-2*ν₁₂*ν₂₁)\n",
    "      C2212 = 0.0\n",
    "      C1212 = G₁₂ \n",
    "  end\n",
    "  C_ten = SymFourthOrderTensorValue(C1111,C1112,C1122,C1112,C1212,C2212,C1122,C2212,C2222)\n",
    "    return  C_ten\n",
    "end\n",
    "const C_ATZ = ElasFourthOrderConstTensor(E_ATZ,E_ATZ,ν_ATZ,ν_ATZ,G₁₂_ATZ,2)\n",
    "const C_AMZ = ElasFourthOrderConstTensor(E_AMZ,E_AMZ,ν_AMZ,ν_AMZ,G₁₂_AMZ,2)"
   ]
  },
  {
   "cell_type": "code",
   "execution_count": 17,
   "id": "a5c35a77",
   "metadata": {},
   "outputs": [
    {
     "data": {
      "text/plain": [
       "σ_mod (generic function with 1 method)"
      ]
     },
     "execution_count": 17,
     "metadata": {},
     "output_type": "execute_result"
    }
   ],
   "source": [
    "function σ_elas(ϵEl,tag)\n",
    "    if tag == ATZ_tag\n",
    "        return λ_ATZ*tr(ϵEl)*I2 + 2*μ_ATZ*(ϵEl)\n",
    "    elseif tag == AMZ_tag\n",
    "        return λ_AMZ*tr(ϵEl)*I2 + 2*μ_AMZ*(ϵEl)\n",
    "    end\n",
    "end\n",
    "\n",
    "function σ_mod(ε, ε_in, s_in, tag)\n",
    "        ϵElas_in = ε_in - ϵRes(tag)\n",
    "        ϵElas = ε - ϵRes(tag)\n",
    "            σM = (s_in^2 + η)*σ_elas(ϵElas,tag)\n",
    "    return σM\n",
    "end"
   ]
  },
  {
   "cell_type": "code",
   "execution_count": 18,
   "id": "9c251da9",
   "metadata": {},
   "outputs": [
    {
     "data": {
      "text/plain": [
       "σTot_mod (generic function with 1 method)"
      ]
     },
     "execution_count": 18,
     "metadata": {},
     "output_type": "execute_result"
    }
   ],
   "source": [
    "function σTot(ε,tag)\n",
    "    if tag == ATZ_tag\n",
    "        return λ_ATZ*tr(ε)*I2 + 2*μ_ATZ*(ε)\n",
    "    elseif tag == AMZ_tag\n",
    "        return λ_AMZ*tr(ε)*I2 + 2*μ_AMZ*(ε)\n",
    "    end\n",
    "end\n",
    "\n",
    "function σTot_mod(ε, ε_in, s_in, tag)\n",
    "            σT = (s_in^2 + η)*σTot(ε,tag)\n",
    "    return σT\n",
    "end"
   ]
  },
  {
   "cell_type": "code",
   "execution_count": 19,
   "id": "b3f13d46",
   "metadata": {},
   "outputs": [
    {
     "data": {
      "text/plain": [
       "σRes_Mod (generic function with 1 method)"
      ]
     },
     "execution_count": 19,
     "metadata": {},
     "output_type": "execute_result"
    }
   ],
   "source": [
    "function σRes(ϵ,tag)\n",
    "        if tag == ATZ_tag          \n",
    "            return λ_ATZ*tr(ϵ)*I2 + 2*μ_ATZ*(ϵ)\n",
    "        elseif tag == AMZ_tag    \n",
    "            return λ_AMZ*tr(ϵ)*I2 + 2*μ_AMZ*(ϵ)\n",
    "        end\n",
    "end\n",
    "\n",
    "\n",
    "function σRes_Mod(s_in,tag)\n",
    "        ϵR = ϵRes(tag)\n",
    "        σR = (s_in^2 + η)*σRes(ϵR,tag)\n",
    "    return σR\n",
    "end"
   ]
  },
  {
   "cell_type": "code",
   "execution_count": 20,
   "id": "89d57dc5",
   "metadata": {},
   "outputs": [
    {
     "data": {
      "text/plain": [
       "Eigen (generic function with 1 method)"
      ]
     },
     "execution_count": 20,
     "metadata": {},
     "output_type": "execute_result"
    }
   ],
   "source": [
    "function Eigen(ε)\n",
    "    εArray = get_array(ε)\n",
    "    Λ, P = eigen(εArray)\n",
    "    ε1 = Λ[1]\n",
    "    ε2 = Λ[2]\n",
    "    if ε1 >= 0 &&  ε2 >= 0\n",
    "        Λpos = [ε1 0; 0 ε2]\n",
    "        Λneg = [0 0; 0 0]\n",
    "    elseif ε1 >= 0 &&  ε2 < 0\n",
    "        Λpos = [ε1 0; 0 0]\n",
    "        Λneg = [0 0; 0 ε2]\n",
    "    elseif ε1 < 0 &&  ε2 >= 0\n",
    "        Λpos = [0 0; 0 ε2]\n",
    "        Λneg = [ε1 0; 0 0]\n",
    "    elseif ε1 < 0 &&  ε2 < 0\n",
    "        Λpos = [0 0; 0 0]\n",
    "        Λneg = [ε1 0; 0 ε2]\n",
    "    end\n",
    "    εPos = TensorValue(P*Λpos*P')\n",
    "    εNeg = TensorValue(P*Λneg*P')\n",
    "    return εPos, εNeg\n",
    "end"
   ]
  },
  {
   "cell_type": "raw",
   "id": "cc6e6167",
   "metadata": {},
   "source": [
    "function ψPos(ε_in,tag)\n",
    "    ϵ_in = ε_in - ϵRes(tag)\n",
    "    εPos, εNeg = Eigen(ϵ_in)\n",
    "    if tag == ATZ_tag\n",
    "        if tr(ϵ_in) >= 0\n",
    "            ψPlus = 0.5*(λ_ATZ/Gc_ATZ_I)*(tr(ϵ_in))^2 + (μ_ATZ/Gc_ATZ_II)*(εPos ⊙ εPos)\n",
    "        elseif tr(ϵ_in) < 0\n",
    "            ψPlus = (μ_ATZ/Gc_ATZ_II)*(εPos ⊙ εPos)\n",
    "        end\n",
    "    elseif tag == AMZ_tag\n",
    "        if tr(ϵ_in) >= 0\n",
    "            ψPlus = 0.5*(λ_AMZ/Gc_AMZ_I)*(tr(ϵ_in))^2 + (μ_AMZ/Gc_AMZ_II)*(εPos ⊙ εPos)\n",
    "        elseif tr(ϵ_in) < 0\n",
    "            ψPlus = (μ_AMZ/Gc_AMZ_II)*(εPos ⊙ εPos)\n",
    "        end\n",
    "    end\n",
    "    return ψPlus\n",
    "end"
   ]
  },
  {
   "cell_type": "code",
   "execution_count": 21,
   "id": "213cd466",
   "metadata": {},
   "outputs": [
    {
     "data": {
      "text/plain": [
       "ψPos (generic function with 1 method)"
      ]
     },
     "execution_count": 21,
     "metadata": {},
     "output_type": "execute_result"
    }
   ],
   "source": [
    "function ψPos(ε_in,tag)\n",
    "    ϵ_in = ε_in - ϵRes(tag)\n",
    "    ϵ_Dev = I4_dev ⊙ ϵ_in\n",
    "    εPos, εNeg = Eigen(ϵ_Dev)\n",
    "    if tag == ATZ_tag\n",
    "        if tr(ϵ_in) >= 0\n",
    "            ψPlus = 0.5*(k_ATZ/Gc_ATZ_I)*(tr(ϵ_in))^2 + (μ_ATZ/Gc_ATZ_II)*(εPos ⊙ εPos)\n",
    "        elseif tr(ϵ_in) < 0\n",
    "            ψPlus = (μ_ATZ/Gc_ATZ_II)*(εPos ⊙ εPos)\n",
    "        end\n",
    "    elseif tag == AMZ_tag\n",
    "        if tr(ϵ_in) >= 0\n",
    "            ψPlus = 0.5*(k_AMZ/Gc_AMZ_I)*(tr(ϵ_in))^2 + (μ_AMZ/Gc_AMZ_II)*(εPos ⊙ εPos)\n",
    "        elseif tr(ϵ_in) < 0\n",
    "            ψPlus = (μ_AMZ/Gc_AMZ_II)*(εPos ⊙ εPos)\n",
    "        end\n",
    "    end\n",
    "    return ψPlus\n",
    "end"
   ]
  },
  {
   "cell_type": "code",
   "execution_count": 22,
   "id": "f9b56efd",
   "metadata": {},
   "outputs": [
    {
     "ename": "LoadError",
     "evalue": "UndefVarError: uh not defined",
     "output_type": "error",
     "traceback": [
      "UndefVarError: uh not defined",
      "",
      "Stacktrace:",
      " [1] top-level scope",
      "   @ In[22]:1"
     ]
    }
   ],
   "source": [
    "ψPos∘(ε(uh),mat_tags)"
   ]
  },
  {
   "cell_type": "code",
   "execution_count": 23,
   "id": "local-freeware",
   "metadata": {},
   "outputs": [
    {
     "data": {
      "text/plain": [
       "new_EnergyState (generic function with 1 method)"
      ]
     },
     "execution_count": 23,
     "metadata": {},
     "output_type": "execute_result"
    }
   ],
   "source": [
    "function new_EnergyState(ψPlusPrev_in,ψhPos_in)\n",
    "  ψPlus_in = ψhPos_in\n",
    "  if ψPlus_in >= ψPlusPrev_in\n",
    "    ψPlus_out = ψPlus_in\n",
    "  else\n",
    "    ψPlus_out = ψPlusPrev_in\n",
    "  end\n",
    "  true,ψPlus_out\n",
    "end"
   ]
  },
  {
   "cell_type": "code",
   "execution_count": 24,
   "id": "3bf5a3ce",
   "metadata": {},
   "outputs": [
    {
     "data": {
      "text/plain": [
       "project (generic function with 1 method)"
      ]
     },
     "execution_count": 24,
     "metadata": {},
     "output_type": "execute_result"
    }
   ],
   "source": [
    "function project(q,model,dΩ,order)\n",
    "  reffe = ReferenceFE(lagrangian,Float64,order)\n",
    "  V = FESpace(model,reffe,conformity=:L2)\n",
    "  a(u,v) = ∫( u*v )*dΩ\n",
    "  l(v) = ∫( v*q )*dΩ\n",
    "  op = AffineFEOperator(a,l,V,V)\n",
    "  qh = Gridap.solve(op)\n",
    "  qh\n",
    "end"
   ]
  },
  {
   "cell_type": "code",
   "execution_count": 25,
   "id": "absolute-workplace",
   "metadata": {},
   "outputs": [
    {
     "data": {
      "text/plain": [
       "SingleFieldFEFunction():\n",
       " num_cells: 407731\n",
       " DomainStyle: ReferenceDomain()\n",
       " Triangulation: BodyFittedTriangulation()\n",
       " Triangulation id: 6249577690814382791"
      ]
     },
     "execution_count": 25,
     "metadata": {},
     "output_type": "execute_result"
    }
   ],
   "source": [
    "sId = CellState(1.0,dΩ)\n",
    "shId = project(sId,model,dΩ,order)"
   ]
  },
  {
   "cell_type": "code",
   "execution_count": 26,
   "id": "700af0f9",
   "metadata": {},
   "outputs": [
    {
     "data": {
      "text/plain": [
       "GenericCellField():\n",
       " num_cells: 4\n",
       " DomainStyle: ReferenceDomain()\n",
       " Triangulation: BoundaryTriangulation()\n",
       " Triangulation id: 3255379060958077240"
      ]
     },
     "execution_count": 26,
     "metadata": {},
     "output_type": "execute_result"
    }
   ],
   "source": [
    "LoadTagId = get_tag_from_name(labels,\"DirichletLoadBoundary\")\n",
    "Γ_Load = BoundaryTriangulation(model,tags = LoadTagId)\n",
    "dΓ_Load = Measure(Γ_Load,degree)\n",
    "n_Γ_Load = get_normal_vector(Γ_Load)"
   ]
  },
  {
   "cell_type": "code",
   "execution_count": 27,
   "id": "950f5dcd",
   "metadata": {},
   "outputs": [
    {
     "data": {
      "text/plain": [
       "SingleFieldFEFunction():\n",
       " num_cells: 407731\n",
       " DomainStyle: ReferenceDomain()\n",
       " Triangulation: BodyFittedTriangulation()\n",
       " Triangulation id: 6249577690814382791"
      ]
     },
     "execution_count": 27,
     "metadata": {},
     "output_type": "execute_result"
    }
   ],
   "source": [
    "reffe_PF = ReferenceFE(lagrangian,Float64,order)\n",
    "V0_PF = TestFESpace(model,reffe_PF;\n",
    "  conformity=:H1)\n",
    "U_PF = TrialFESpace(V0_PF)\n",
    "sh = zero(V0_PF)"
   ]
  },
  {
   "cell_type": "code",
   "execution_count": 28,
   "id": "1942f3e1",
   "metadata": {},
   "outputs": [
    {
     "data": {
      "text/plain": [
       "SingleFieldFEFunction():\n",
       " num_cells: 407731\n",
       " DomainStyle: ReferenceDomain()\n",
       " Triangulation: BodyFittedTriangulation()\n",
       " Triangulation id: 6249577690814382791"
      ]
     },
     "execution_count": 28,
     "metadata": {},
     "output_type": "execute_result"
    }
   ],
   "source": [
    "reffe_Disp = ReferenceFE(lagrangian,VectorValue{2,Float64},order)\n",
    "        V0_Disp = TestFESpace(model,reffe_Disp;\n",
    "          conformity=:H1,\n",
    "          dirichlet_tags=[\"LeftSupport\",\"RightSupport\",\"DirichletLoadBoundary\"],\n",
    "          dirichlet_masks=[(true,true), (false,true), (false,true)])\n",
    "\n",
    "uh = zero(V0_Disp)"
   ]
  },
  {
   "cell_type": "code",
   "execution_count": 29,
   "id": "saved-raleigh",
   "metadata": {},
   "outputs": [
    {
     "data": {
      "text/plain": [
       "stepPhaseField (generic function with 1 method)"
      ]
     },
     "execution_count": 29,
     "metadata": {},
     "output_type": "execute_result"
    }
   ],
   "source": [
    "function  stepPhaseField(uh_in,ψPlusPrev_in)\n",
    "\n",
    "        a_PF(s,ϕ) = ∫( lsp*∇(ϕ)⋅ ∇(s) + 2*ψPlusPrev_in*s*ϕ + (1/lsp)*s*ϕ )*dΩ\n",
    "        b_PF(ϕ) = ∫( (1/lsp)*ϕ )*dΩ  \n",
    "        op_PF = AffineFEOperator(a_PF,b_PF,U_PF,V0_PF)\n",
    "        sh_out = solve(op_PF) \n",
    "    \n",
    "    return sh_out  \n",
    "end"
   ]
  },
  {
   "cell_type": "code",
   "execution_count": 30,
   "id": "9eab4a9c",
   "metadata": {},
   "outputs": [
    {
     "data": {
      "text/plain": [
       "stepDisp (generic function with 1 method)"
      ]
     },
     "execution_count": 30,
     "metadata": {},
     "output_type": "execute_result"
    }
   ],
   "source": [
    "function   stepDisp(uh_in,sh_in,uApp)\n",
    "        uApp1(x) = VectorValue(0.0,0.0)\n",
    "        uApp2(x) = VectorValue(0.0,0.0)\n",
    "        uApp3(x) = VectorValue(0.0,-uApp)\n",
    "        U_Disp = TrialFESpace(V0_Disp,[uApp1,uApp2,uApp3])\n",
    "\n",
    "        a_Disp(u,v) = ∫( (ε(v) ⊙ (σTot_mod∘(ε(u),ε(uh_in),sh_in,mat_tags)) ) )*dΩ\n",
    "        b_Disp(v) = ∫( (ε(v) ⊙ (σRes_Mod∘(sh_in,mat_tags)) ) )*dΩ\n",
    "        op_Disp = AffineFEOperator(a_Disp,b_Disp,U_Disp,V0_Disp)\n",
    "        uh_out = solve(op_Disp)\n",
    "    return uh_out\n",
    "end"
   ]
  },
  {
   "cell_type": "code",
   "execution_count": null,
   "id": "8a4b863f",
   "metadata": {
    "scrolled": true
   },
   "outputs": [
    {
     "name": "stdout",
     "output_type": "stream",
     "text": [
      "\n",
      " Entering displacemtent step1 :0.00015\n",
      " error = 3.714853354518123e-17\n",
      " Entering displacemtent step2 :0.0003"
     ]
    }
   ],
   "source": [
    "uApp = 0\n",
    "uAppMax = 0.015\n",
    "delu = 0.015/100\n",
    "innerMax = 10\n",
    "count = 0\n",
    "Load = Float64[]\n",
    "Displacement = Float64[]\n",
    "\n",
    "sPrev = CellState(1.0,dΩ)\n",
    "sh = project(sPrev,model,dΩ,order)\n",
    "ψPlusPrev = CellState(0.0,dΩ)\n",
    "\n",
    "while uApp .< uAppMax \n",
    "        \n",
    "    uApp = uApp .+ delu\n",
    "    count = count .+ 1\n",
    "   \n",
    "    print(\"\\n Entering displacemtent step$count :\", float(uApp))\n",
    "    \n",
    "   for inner = 1:innerMax\n",
    "        \n",
    "        ψhPlusPrev = project(ψPlusPrev,model,dΩ,order)\n",
    "        \n",
    "        err = abs(sum(∫( lsp*∇(sh)⋅ ∇(sh) + 2*ψhPlusPrev*sh*sh + (1/lsp)*sh*sh)*dΩ-∫( (1/lsp)*sh)*dΩ))/abs(sum(∫( (1/lsp)*sh)*dΩ))\n",
    "\n",
    "        print(\"\\n error = \",float(err))\n",
    "        \n",
    "        sh = stepPhaseField(uh,ψhPlusPrev) \n",
    "        uh = stepDisp(uh,sh,uApp)\n",
    "        \n",
    "        ψhPos_in = ψPos∘(ε(uh),mat_tags)\n",
    "        update_state!(new_EnergyState,ψPlusPrev,ψhPos_in)\n",
    "        \n",
    "        if err < 1e-8\n",
    "            break \n",
    "        end \n",
    "    end\n",
    "    \n",
    "    Node_Force = sum(∫( n_Γ_Load ⋅ (σ_mod∘(ε(uh),ε(uh),sh,mat_tags)) ) *dΓ_Load)\n",
    "    \n",
    "    push!(Load, -Node_Force[2])\n",
    "    push!(Displacement, uApp)\n",
    "    if mod(count,5) == 0\n",
    "         writevtk(Ω,\"results_PhaseFieldBeamWithNotchWithResStress$count\",cellfields=\n",
    "        [\"uh\"=>uh,\"s\"=>sh , \"epsi\"=>ε(uh),\"sigma\"=>σ_elas∘(ε(uh),mat_tags)])\n",
    "    end\n",
    "end"
   ]
  },
  {
   "cell_type": "code",
   "execution_count": null,
   "id": "56b16101",
   "metadata": {},
   "outputs": [],
   "source": [
    "writevtk(Ω,\"results_PhaseFieldBeamWithNotchWithResStress$count\",cellfields=\n",
    "        [\"uh\"=>uh,\"s\"=>sh , \"epsi\"=>ε(uh),\"sigma\"=>σ_elas∘(ε(uh),mat_tags)])"
   ]
  },
  {
   "cell_type": "code",
   "execution_count": null,
   "id": "464f4cb4",
   "metadata": {},
   "outputs": [],
   "source": [
    "plot(Displacement,Load)"
   ]
  },
  {
   "cell_type": "code",
   "execution_count": null,
   "id": "761ad717",
   "metadata": {},
   "outputs": [],
   "source": [
    "cd(\"../Load-DispData\")"
   ]
  },
  {
   "cell_type": "code",
   "execution_count": null,
   "id": "136eadcd",
   "metadata": {},
   "outputs": [],
   "source": [
    "using DelimitedFiles\n",
    "Disp = writedlm( \"DispDataWithResStress_9L_1250deg(Tr5.7)_8Gc.csv\",  Displacement, ',')\n",
    "Force = writedlm(\"LoadDataWithResStress_9L_1250deg(Tr5.7)_8Gc.csv\",  Load, ',')"
   ]
  }
 ],
 "metadata": {
  "@webio": {
   "lastCommId": null,
   "lastKernelId": null
  },
  "kernelspec": {
   "display_name": "Julia 1.8.1",
   "language": "julia",
   "name": "julia-1.8"
  },
  "language_info": {
   "file_extension": ".jl",
   "mimetype": "application/julia",
   "name": "julia",
   "version": "1.8.1"
  }
 },
 "nbformat": 4,
 "nbformat_minor": 5
}
